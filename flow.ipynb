{
 "cells": [
  {
   "cell_type": "markdown",
   "metadata": {},
   "source": [
    "# Programming Flow\n",
    "- Conditional Flow\n",
    "  - if\n",
    "  - if else\n",
    "  - if elif else\n",
    "  - match case\n",
    "- iterative flow\n",
    "  - for loop\n",
    "  - while loop"
   ]
  },
  {
   "cell_type": "code",
   "execution_count": 1,
   "metadata": {},
   "outputs": [
    {
     "name": "stdout",
     "output_type": "stream",
     "text": [
      "hello everyone\n"
     ]
    }
   ],
   "source": [
    "if 'hello':\n",
    "    print('hello everyone')"
   ]
  },
  {
   "cell_type": "code",
   "execution_count": 2,
   "metadata": {},
   "outputs": [
    {
     "name": "stdout",
     "output_type": "stream",
     "text": [
      "hello everyone\n"
     ]
    }
   ],
   "source": [
    "x = 'hello'\n",
    "if len(x) >= 5:\n",
    "    print('hello everyone')"
   ]
  },
  {
   "cell_type": "code",
   "execution_count": 4,
   "metadata": {},
   "outputs": [
    {
     "name": "stdout",
     "output_type": "stream",
     "text": [
      "a * 2 is greater than 100\n",
      "a + 50 is greater than 100\n"
     ]
    }
   ],
   "source": [
    "a = int(input('Enter a number: '))\n",
    "if a * 2 > 100:\n",
    "    print('a * 2 is greater than 100')\n",
    "if a + 50 > 100:\n",
    "    print('a + 50 is greater than 100')"
   ]
  },
  {
   "cell_type": "code",
   "execution_count": 5,
   "metadata": {},
   "outputs": [
    {
     "name": "stdout",
     "output_type": "stream",
     "text": [
      "x is even\n"
     ]
    }
   ],
   "source": [
    "x = int(input('Enter a number: '))\n",
    "if x % 2 ==0:\n",
    "    print('x is even')\n",
    "else:\n",
    "    print('x is odd') "
   ]
  },
  {
   "cell_type": "markdown",
   "metadata": {},
   "source": [
    "wap to find the total salary of the employee based on the following data\n",
    "`````\n",
    "salary : user inputted\n",
    "hra = 5%\n",
    "da = 3.3 %\n",
    "ta = 2.61 %\n",
    "\n",
    "total = salary + da + ta + hra\n",
    "\n",
    "*rule*\n",
    "if hra is less than 1000 then don't add hra to total"
   ]
  },
  {
   "cell_type": "markdown",
   "metadata": {},
   "source": [
    "# 5-jun-24\n",
    "- nested\n",
    "- break and continue\n",
    "- for-else"
   ]
  },
  {
   "cell_type": "code",
   "execution_count": 1,
   "metadata": {},
   "outputs": [
    {
     "name": "stdout",
     "output_type": "stream",
     "text": [
      "1 1 1 2 1 3 \n",
      "2 1 2 2 2 3 \n",
      "3 1 3 2 3 3 \n",
      "4 1 4 2 4 3 \n",
      "5 1 5 2 5 3 \n",
      "6 1 6 2 6 3 \n",
      "7 1 7 2 7 3 \n",
      "8 1 8 2 8 3 \n",
      "9 1 9 2 9 3 \n",
      "10 1 10 2 10 3 \n"
     ]
    }
   ],
   "source": [
    "for i in range(1,11):\n",
    "    for j in range(1,4):\n",
    "         print(i, j, end=', ')\n",
    "    print()     "
   ]
  },
  {
   "cell_type": "code",
   "execution_count": 3,
   "metadata": {},
   "outputs": [
    {
     "name": "stdout",
     "output_type": "stream",
     "text": [
      "1 John 25 \n",
      "2 Jane 22 \n",
      "3 Doe 30 Engineer \n"
     ]
    }
   ],
   "source": [
    "cdata = [\n",
    "    [1, 'John', 25],\n",
    "    [2, 'Jane', 22],\n",
    "    [3, 'Doe', 30, 'Engineer']\n",
    "]\n",
    "\n",
    "for row in cdata:\n",
    "    for item in row:\n",
    "        print(item, end=' ')\n",
    "    print()    \n",
    "    "
   ]
  },
  {
   "cell_type": "code",
   "execution_count": 7,
   "metadata": {},
   "outputs": [
    {
     "name": "stdout",
     "output_type": "stream",
     "text": [
      "12 45 67 \n",
      "23 45 67 \n",
      "34 56 78 \n",
      "\n",
      "23 45 23 \n",
      "34 56 78 \n",
      "\n"
     ]
    }
   ],
   "source": [
    "more_data = [\n",
    "    [[12,45,67], [23,45,67,], [34,56,78]],\n",
    "    [[23,45,23], [34,56,78]],\n",
    "]\n",
    "\n",
    "for row in more_data:\n",
    "    for item in row:\n",
    "        for entry in item:\n",
    "            print(entry, end=' ')\n",
    "        print()\n",
    "    print()    "
   ]
  },
  {
   "cell_type": "code",
   "execution_count": 8,
   "metadata": {},
   "outputs": [
    {
     "name": "stdout",
     "output_type": "stream",
     "text": [
      "1\n",
      "2\n",
      "3\n",
      "4\n",
      "5\n",
      "loop executed\n"
     ]
    }
   ],
   "source": [
    "x = [1,2,3,4,5,-1,6,7,8,9,10]\n",
    "for i in x:\n",
    "    if i < 0:\n",
    "        break\n",
    "    print(i)\n",
    "print('loop executed')    "
   ]
  },
  {
   "cell_type": "code",
   "execution_count": 14,
   "metadata": {},
   "outputs": [
    {
     "name": "stdout",
     "output_type": "stream",
     "text": [
      "1 2 3 6 8 9 11 13 14 15 \n",
      "alternate way\n",
      "1 2 3 6 8 9 11 13 14 15 "
     ]
    }
   ],
   "source": [
    "data_with_crap = [1,2,3,'4','5', 6,'7',8,9,'10',11,'12',13,14,15]\n",
    "for i in data_with_crap:\n",
    "    if isinstance(i, str):\n",
    "        continue\n",
    "    print(i, end=' ')\n",
    "\n",
    "#############alternateway###########\n",
    "print('\\nalternate way')\n",
    "for i in data_with_crap:\n",
    "    if isinstance(i, int):\n",
    "        print(i, end=' ')"
   ]
  },
  {
   "cell_type": "code",
   "execution_count": 20,
   "metadata": {},
   "outputs": [
    {
     "name": "stdout",
     "output_type": "stream",
     "text": [
      "1\n",
      "2\n",
      "3\n",
      "4\n",
      "5\n",
      "6\n",
      "7\n",
      "8\n",
      "9\n",
      "10\n",
      "Loop completed all steps\n"
     ]
    }
   ],
   "source": [
    "# adding a check for loop completion\n",
    "data = [1,2,3,4,5,6,7,8,9,10]\n",
    "stop_val = int(input('Enter a number to stop at: '))\n",
    "for i in data:\n",
    "    if stop_val == i:\n",
    "        print(f\"Loop stopped at {i}\")\n",
    "        break\n",
    "    print(i)\n",
    "else:\n",
    "        print(\"Loop completed all steps\")"
   ]
  },
  {
   "cell_type": "markdown",
   "metadata": {},
   "source": [
    "# while loop"
   ]
  },
  {
   "cell_type": "code",
   "execution_count": 3,
   "metadata": {},
   "outputs": [
    {
     "name": "stdout",
     "output_type": "stream",
     "text": [
      "10\n",
      "9\n",
      "8\n",
      "7\n",
      "6\n",
      "5\n",
      "4\n",
      "3\n",
      "2\n",
      "1\n"
     ]
    }
   ],
   "source": [
    "i = 10\n",
    "while i > 0:\n",
    "    print(i)\n",
    "    i -= 1"
   ]
  },
  {
   "cell_type": "code",
   "execution_count": 2,
   "metadata": {},
   "outputs": [
    {
     "name": "stdout",
     "output_type": "stream",
     "text": [
      "0\n",
      "2\n"
     ]
    }
   ],
   "source": [
    "# sum of all digits 12345 => 1+2+3+4+5 = 15\n",
    "num = int(input(\"Enter a number: \"))\n",
    "total = 0\n",
    "while num > 0:\n",
    "    total += num % 10\n",
    "    num = num // 10\n",
    "    print(total)"
   ]
  },
  {
   "cell_type": "code",
   "execution_count": null,
   "metadata": {},
   "outputs": [],
   "source": [
    "\n"
   ]
  }
 ],
 "metadata": {
  "kernelspec": {
   "display_name": "base",
   "language": "python",
   "name": "python3"
  },
  "language_info": {
   "codemirror_mode": {
    "name": "ipython",
    "version": 3
   },
   "file_extension": ".py",
   "mimetype": "text/x-python",
   "name": "python",
   "nbconvert_exporter": "python",
   "pygments_lexer": "ipython3",
   "version": "3.12.3"
  }
 },
 "nbformat": 4,
 "nbformat_minor": 2
}
