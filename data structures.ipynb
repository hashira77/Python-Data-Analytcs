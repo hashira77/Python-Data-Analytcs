{
 "cells": [
  {
   "cell_type": "markdown",
   "metadata": {},
   "source": [
    "- list\n",
    "- `creating`\n",
    "- `indexing and slicing(same as string)`\n",
    "- `methods`\n",
    "- `comprehension`"
   ]
  },
  {
   "cell_type": "code",
   "execution_count": 1,
   "metadata": {},
   "outputs": [
    {
     "name": "stdout",
     "output_type": "stream",
     "text": [
      "[]\n",
      "[1, 2, 3, 4]\n",
      "['apple', 'banana', 'cherry']\n",
      "['apple', 1, 'banana', 2, 'cherry', 3]\n",
      "[[1, 2, 3], [4, 5, 6], [7, 8, 9]]\n",
      "[['apple', 1], ['banana', 2], ['cherry', 3, 120]]\n"
     ]
    }
   ],
   "source": [
    "a = []                                                        # empty list\n",
    "b = [1,2,3,4,]                                                \n",
    "c = ['apple', 'banana', 'cherry']\n",
    "d = ['apple', 1, 'banana', 2, 'cherry', 3]\n",
    "e = [[1,2,3,], [4,5,6], [7,8,9]]\n",
    "f = [['apple', 1], ['banana', 2], ['cherry', 3, 120]]\n",
    "print(a)\n",
    "print(b)\n",
    "print(c)\n",
    "print(d)\n",
    "print(e)\n",
    "print(f)"
   ]
  },
  {
   "cell_type": "code",
   "execution_count": 2,
   "metadata": {},
   "outputs": [
    {
     "name": "stdout",
     "output_type": "stream",
     "text": [
      "apple\n",
      "banana\n",
      "cherry\n",
      "apple\n",
      "1\n",
      "banana\n",
      "2\n",
      "cherry\n",
      "3\n",
      "[1, 2, 3]\n",
      "[4, 5, 6]\n",
      "[7, 8, 9]\n",
      "['apple', 1]\n",
      "['banana', 2]\n",
      "['cherry', 3, 120]\n"
     ]
    }
   ],
   "source": [
    "for i in c:\n",
    "    print(i)\n",
    "for i in d:\n",
    "    print(i)\n",
    "for i in e:\n",
    "    print(i)\n",
    "for i in f:\n",
    "    print(i)"
   ]
  },
  {
   "cell_type": "code",
   "execution_count": 3,
   "metadata": {},
   "outputs": [
    {
     "name": "stdout",
     "output_type": "stream",
     "text": [
      "['h', 'e', 'l', 'l', 'o']\n",
      "[0, 1, 2, 3, 4, 5, 6, 7, 8, 9]\n",
      "[1, 2, 3, 4, 5]\n",
      "[1, 2, 3, 1, 2, 3, 1, 2, 3, 1, 2, 3, 1, 2, 3]\n"
     ]
    }
   ],
   "source": [
    "g = list('hello')\n",
    "h = list(range(10))\n",
    "i = list((1,2,3,4,5))\n",
    "j = [1,2,3] * 5               # duplicated list\n",
    "print(g)\n",
    "print(h)\n",
    "print(i)\n",
    "print(j)"
   ]
  },
  {
   "cell_type": "code",
   "execution_count": 4,
   "metadata": {},
   "outputs": [
    {
     "name": "stdout",
     "output_type": "stream",
     "text": [
      "['Kung Fu Panda', 'Wish Dragon', 'The Croods', 'Moana', 'Invincible']\n",
      "5\n",
      "first movie:  Kung Fu Panda\n",
      "last movie:  Invincible\n",
      "second movie:  Wish Dragon\n",
      "third movie:  The Croods\n"
     ]
    }
   ],
   "source": [
    "movies = ['Kung Fu Panda', 'Wish Dragon', 'The Croods', 'Moana', 'Invincible']\n",
    "print(movies)\n",
    "print(len(movies))\n",
    "print(\"first movie: \",movies[0])\n",
    "print(\"last movie: \",movies[-1])\n",
    "print(\"second movie: \",movies[1])\n",
    "print(\"third movie: \",movies[2])"
   ]
  },
  {
   "cell_type": "code",
   "execution_count": 6,
   "metadata": {},
   "outputs": [
    {
     "name": "stdout",
     "output_type": "stream",
     "text": [
      "[1, 2, 3]\n",
      "[8, 9, 10]\n",
      "[3, 4, 5, 6, 7, 8]\n",
      "[10, 9, 8, 7, 6, 5, 4, 3, 2, 1]\n"
     ]
    }
   ],
   "source": [
    "numbers = [1,2,3,4,5,6,7,8,9,10]\n",
    "print(numbers[:3]) # 0,1,2\n",
    "print(numbers[-3:]) # 8,9,10\n",
    "print(numbers[2:-2]) # 3,4,5,6,7,8\n",
    "print(numbers[::-1])"
   ]
  },
  {
   "cell_type": "markdown",
   "metadata": {},
   "source": [
    "## list methods (11)\n",
    "- adding/updating\n",
    " - `append()`\n",
    " - `extend()`\n",
    " - `insert()`\n",
    "- removing/deleting\n",
    " - `remove()`\n",
    " - `pop()`\n",
    " - `clear()`\n",
    "- utility\n",
    " - `sort()`\n",
    " - `reverse()`\n",
    " - `index()`\n",
    " - `count()`\n",
    " - `copy()`"
   ]
  },
  {
   "cell_type": "code",
   "execution_count": 7,
   "metadata": {},
   "outputs": [
    {
     "name": "stdout",
     "output_type": "stream",
     "text": [
      "Favorite books:  ['The final empire, Hero of ages, Words of radiance, oathbringer, Way of the Kings', '', 'hero of ages', 'Words of radiance', 'oathbringer']\n",
      "Hated books:  ['Way of the Kings', 'New Moon', 'Harry Potter and the Goblet of fire']\n"
     ]
    }
   ],
   "source": [
    "fav_books = []\n",
    "hated_books = []\n",
    "for i in range(5):\n",
    "    book = input(\"Enter your favorite book: \")\n",
    "    fav_books.append(book)\n",
    "for i in range(3):\n",
    "    book = input(\"Enter your hated book: \")\n",
    "    hated_books.append(book)\n",
    "print(\"Favorite books: \", fav_books)\n",
    "print(\"Hated books: \", hated_books)"
   ]
  },
  {
   "cell_type": "code",
   "execution_count": 8,
   "metadata": {},
   "outputs": [
    {
     "name": "stdout",
     "output_type": "stream",
     "text": [
      "['Way of the Kings', 'New Moon', 'Harry Potter and the Goblet of fire', 'Julius Ceasar']\n"
     ]
    }
   ],
   "source": [
    "hated_books.append(\"Julius Ceasar\") # add to the end\n",
    "print(hated_books)"
   ]
  },
  {
   "cell_type": "code",
   "execution_count": 9,
   "metadata": {},
   "outputs": [
    {
     "name": "stdout",
     "output_type": "stream",
     "text": [
      "['The final empire, Hero of ages, Words of radiance, oathbringer, Way of the Kings', '', 'hero of ages', 'Words of radiance', 'oathbringer', 'Way of the Kings', 'New Moon', 'Harry Potter and the Goblet of fire', 'Julius Ceasar']\n"
     ]
    }
   ],
   "source": [
    "# merge two lists and create a new list\n",
    "books = fav_books + hated_books\n",
    "print(books)"
   ]
  },
  {
   "cell_type": "code",
   "execution_count": 10,
   "metadata": {},
   "outputs": [
    {
     "name": "stdout",
     "output_type": "stream",
     "text": [
      "['The final empire, Hero of ages, Words of radiance, oathbringer, Way of the Kings', '', 'hero of ages', 'Words of radiance', 'oathbringer', 'Way of the Kings', 'New Moon', 'Harry Potter and the Goblet of fire', 'Julius Ceasar', 'Legion', 'Rithmatist', 'Steelheart']\n",
      "total books:  12\n"
     ]
    }
   ],
   "source": [
    "# adding a list to the existing list\n",
    "books.extend(['Legion', 'Rithmatist', 'Steelheart'])\n",
    "print(books)\n",
    "print('total books: ', len(books))"
   ]
  },
  {
   "cell_type": "code",
   "execution_count": 11,
   "metadata": {},
   "outputs": [
    {
     "name": "stdout",
     "output_type": "stream",
     "text": [
      "['The final empire, Hero of ages, Words of radiance, oathbringer, Way of the Kings', '', 'hero of ages', 'Words of radiance', 'oathbringer', 'Way of the Kings', 'New Moon', 'Harry Potter and the Goblet of fire', 'Julius Ceasar', 'Legion', 'Rithmatist', 'Steelheart', ['Diary of a Wimpy Kid', 'Harry Potter']]\n"
     ]
    }
   ],
   "source": [
    "books.append(['Diary of a Wimpy Kid', 'Harry Potter']) # nesting\n",
    "print(books)"
   ]
  },
  {
   "cell_type": "code",
   "execution_count": 12,
   "metadata": {},
   "outputs": [
    {
     "name": "stdout",
     "output_type": "stream",
     "text": [
      "\u001b[1;31mSignature:\u001b[0m \u001b[0mbooks\u001b[0m\u001b[1;33m.\u001b[0m\u001b[0minsert\u001b[0m\u001b[1;33m(\u001b[0m\u001b[0mindex\u001b[0m\u001b[1;33m,\u001b[0m \u001b[0mobject\u001b[0m\u001b[1;33m,\u001b[0m \u001b[1;33m/\u001b[0m\u001b[1;33m)\u001b[0m\u001b[1;33m\u001b[0m\u001b[1;33m\u001b[0m\u001b[0m\n",
      "\u001b[1;31mDocstring:\u001b[0m Insert object before index.\n",
      "\u001b[1;31mType:\u001b[0m      builtin_function_or_method"
     ]
    }
   ],
   "source": [
    "books.insert?"
   ]
  },
  {
   "cell_type": "code",
   "execution_count": 13,
   "metadata": {},
   "outputs": [
    {
     "name": "stdout",
     "output_type": "stream",
     "text": [
      "['The final empire, Hero of ages, Words of radiance, oathbringer, Way of the Kings', '', 'hero of ages', 'Harry', 'Words of radiance', 'oathbringer', 'Way of the Kings', 'New Moon', 'Harry Potter and the Goblet of fire', 'Julius Ceasar', 'Legion', 'Rithmatist', 'Steelheart', ['Diary of a Wimpy Kid', 'Harry Potter']]\n"
     ]
    }
   ],
   "source": [
    "books.insert(3, 'Harry')\n",
    "print(books)"
   ]
  },
  {
   "cell_type": "code",
   "execution_count": 15,
   "metadata": {},
   "outputs": [],
   "source": [
    "books[10] = 'Pygmalion' # replace at index 10"
   ]
  },
  {
   "cell_type": "code",
   "execution_count": 14,
   "metadata": {},
   "outputs": [
    {
     "name": "stdout",
     "output_type": "stream",
     "text": [
      "\u001b[1;31mSignature:\u001b[0m \u001b[0mbooks\u001b[0m\u001b[1;33m.\u001b[0m\u001b[0mremove\u001b[0m\u001b[1;33m(\u001b[0m\u001b[0mvalue\u001b[0m\u001b[1;33m,\u001b[0m \u001b[1;33m/\u001b[0m\u001b[1;33m)\u001b[0m\u001b[1;33m\u001b[0m\u001b[1;33m\u001b[0m\u001b[0m\n",
      "\u001b[1;31mDocstring:\u001b[0m\n",
      "Remove first occurrence of value.\n",
      "\n",
      "Raises ValueError if the value is not present.\n",
      "\u001b[1;31mType:\u001b[0m      builtin_function_or_method"
     ]
    }
   ],
   "source": [
    "books.remove?"
   ]
  },
  {
   "cell_type": "code",
   "execution_count": 16,
   "metadata": {},
   "outputs": [],
   "source": [
    "books.remove(\"Rithmatist\") # remove by value"
   ]
  },
  {
   "cell_type": "code",
   "execution_count": 17,
   "metadata": {},
   "outputs": [
    {
     "data": {
      "text/plain": [
       "'Way of the Kings'"
      ]
     },
     "execution_count": 17,
     "metadata": {},
     "output_type": "execute_result"
    }
   ],
   "source": [
    "books.pop(6) # remove by index"
   ]
  },
  {
   "cell_type": "code",
   "execution_count": 18,
   "metadata": {},
   "outputs": [
    {
     "data": {
      "text/plain": [
       "['Diary of a Wimpy Kid', 'Harry Potter']"
      ]
     },
     "execution_count": 18,
     "metadata": {},
     "output_type": "execute_result"
    }
   ],
   "source": [
    "books.pop() # remove last element"
   ]
  },
  {
   "cell_type": "code",
   "execution_count": 19,
   "metadata": {},
   "outputs": [
    {
     "data": {
      "text/plain": [
       "[]"
      ]
     },
     "execution_count": 19,
     "metadata": {},
     "output_type": "execute_result"
    }
   ],
   "source": [
    "hated_books.clear() # remove all the elements\n",
    "hated_books"
   ]
  },
  {
   "cell_type": "markdown",
   "metadata": {},
   "source": [
    "# wap to create an empty list, then fill the list with 10 prime numbers using a loop, starting with 2"
   ]
  },
  {
   "cell_type": "code",
   "execution_count": null,
   "metadata": {},
   "outputs": [],
   "source": []
  }
 ],
 "metadata": {
  "kernelspec": {
   "display_name": "Python 3",
   "language": "python",
   "name": "python3"
  },
  "language_info": {
   "codemirror_mode": {
    "name": "ipython",
    "version": 3
   },
   "file_extension": ".py",
   "mimetype": "text/x-python",
   "name": "python",
   "nbconvert_exporter": "python",
   "pygments_lexer": "ipython3",
   "version": "3.12.1"
  }
 },
 "nbformat": 4,
 "nbformat_minor": 2
}
